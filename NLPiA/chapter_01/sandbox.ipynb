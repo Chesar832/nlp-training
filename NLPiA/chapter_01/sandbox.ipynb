{
 "cells": [
  {
   "cell_type": "code",
   "execution_count": 1,
   "metadata": {},
   "outputs": [],
   "source": [
    "import re"
   ]
  },
  {
   "cell_type": "code",
   "execution_count": 2,
   "metadata": {},
   "outputs": [],
   "source": [
    "# Regular expression pattern\n",
    "pattern = r'[.!?](?=\\s|$)'\n",
    "\n",
    "# Test the regular expression\n",
    "text = \"This is a sentence. Is this another sentence? Yes, it is!\""
   ]
  },
  {
   "cell_type": "markdown",
   "metadata": {},
   "source": [
    "**Explanation:**\n",
    "- `[.!?]`: Matches any of the sentence-ending punctuation marks: period (.), question mark (?), or exclamation mark (!).  \n",
    "- `(?=\\s|$)`: A positive lookahead that ensures the sentence boundary is followed by either a whitespace character (\\s) or the end of the string ($). This prevents matching sentence-ending punctuation that is not at the actual boundary, such as within abbreviations or numbers."
   ]
  },
  {
   "cell_type": "code",
   "execution_count": 3,
   "metadata": {},
   "outputs": [
    {
     "name": "stdout",
     "output_type": "stream",
     "text": [
      "['.', '?', '!']\n"
     ]
    }
   ],
   "source": [
    "\n",
    "matches = re.findall(pattern, text)\n",
    "print(matches)"
   ]
  },
  {
   "cell_type": "code",
   "execution_count": null,
   "metadata": {},
   "outputs": [],
   "source": []
  }
 ],
 "metadata": {
  "kernelspec": {
   "display_name": ".venv",
   "language": "python",
   "name": "python3"
  },
  "language_info": {
   "codemirror_mode": {
    "name": "ipython",
    "version": 3
   },
   "file_extension": ".py",
   "mimetype": "text/x-python",
   "name": "python",
   "nbconvert_exporter": "python",
   "pygments_lexer": "ipython3",
   "version": "3.9.19"
  }
 },
 "nbformat": 4,
 "nbformat_minor": 2
}
