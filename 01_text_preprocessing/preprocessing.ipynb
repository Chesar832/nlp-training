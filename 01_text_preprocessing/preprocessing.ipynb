{
 "cells": [
  {
   "cell_type": "markdown",
   "id": "5e898bfa",
   "metadata": {
    "papermill": {
     "duration": 0.016923,
     "end_time": "2024-09-11T02:55:56.627528",
     "exception": false,
     "start_time": "2024-09-11T02:55:56.610605",
     "status": "completed"
    },
    "tags": []
   },
   "source": [
    "## Libraries"
   ]
  },
  {
   "cell_type": "code",
   "execution_count": 2,
   "id": "84cc8f94",
   "metadata": {
    "execution": {
     "iopub.execute_input": "2024-09-11T02:55:56.663997Z",
     "iopub.status.busy": "2024-09-11T02:55:56.663428Z",
     "iopub.status.idle": "2024-09-11T02:55:58.540360Z",
     "shell.execute_reply": "2024-09-11T02:55:58.539196Z"
    },
    "papermill": {
     "duration": 1.898484,
     "end_time": "2024-09-11T02:55:58.543232",
     "exception": false,
     "start_time": "2024-09-11T02:55:56.644748",
     "status": "completed"
    },
    "tags": []
   },
   "outputs": [],
   "source": [
    "import pandas as pd\n",
    "import numpy as np\n",
    "import matplotlib.pyplot as plt\n",
    "\n",
    "from sklearn.feature_extraction.text import CountVectorizer\n",
    "from sklearn.model_selection import train_test_split\n",
    "from sklearn.linear_model import LogisticRegression\n",
    "from sklearn.metrics import accuracy_score, f1_score, recall_score, precision_score"
   ]
  },
  {
   "cell_type": "code",
   "execution_count": 3,
   "id": "115fb48a",
   "metadata": {
    "execution": {
     "iopub.execute_input": "2024-09-11T02:55:58.580710Z",
     "iopub.status.busy": "2024-09-11T02:55:58.579302Z",
     "iopub.status.idle": "2024-09-11T02:55:58.585539Z",
     "shell.execute_reply": "2024-09-11T02:55:58.584344Z"
    },
    "papermill": {
     "duration": 0.027341,
     "end_time": "2024-09-11T02:55:58.587955",
     "exception": false,
     "start_time": "2024-09-11T02:55:58.560614",
     "status": "completed"
    },
    "tags": []
   },
   "outputs": [],
   "source": [
    "pd.set_option('display.max_colwidth', 100)"
   ]
  },
  {
   "cell_type": "markdown",
   "id": "84ca9705",
   "metadata": {
    "papermill": {
     "duration": 0.017292,
     "end_time": "2024-09-11T02:55:58.622768",
     "exception": false,
     "start_time": "2024-09-11T02:55:58.605476",
     "status": "completed"
    },
    "tags": []
   },
   "source": [
    "## Data Collection"
   ]
  },
  {
   "cell_type": "code",
   "execution_count": 4,
   "id": "229ebfc8",
   "metadata": {
    "execution": {
     "iopub.execute_input": "2024-09-11T02:55:58.659341Z",
     "iopub.status.busy": "2024-09-11T02:55:58.658849Z",
     "iopub.status.idle": "2024-09-11T02:55:58.664173Z",
     "shell.execute_reply": "2024-09-11T02:55:58.662817Z"
    },
    "papermill": {
     "duration": 0.026492,
     "end_time": "2024-09-11T02:55:58.666709",
     "exception": false,
     "start_time": "2024-09-11T02:55:58.640217",
     "status": "completed"
    },
    "tags": []
   },
   "outputs": [],
   "source": [
    "train_path = \"data/train.csv\""
   ]
  },
  {
   "cell_type": "code",
   "execution_count": 5,
   "id": "137dbac8",
   "metadata": {
    "execution": {
     "iopub.execute_input": "2024-09-11T02:55:58.704153Z",
     "iopub.status.busy": "2024-09-11T02:55:58.703124Z",
     "iopub.status.idle": "2024-09-11T02:55:58.768567Z",
     "shell.execute_reply": "2024-09-11T02:55:58.767343Z"
    },
    "papermill": {
     "duration": 0.087136,
     "end_time": "2024-09-11T02:55:58.771339",
     "exception": false,
     "start_time": "2024-09-11T02:55:58.684203",
     "status": "completed"
    },
    "tags": []
   },
   "outputs": [],
   "source": [
    "df = pd.read_csv(train_path)"
   ]
  },
  {
   "cell_type": "code",
   "execution_count": 6,
   "id": "e0bf1fa9",
   "metadata": {
    "execution": {
     "iopub.execute_input": "2024-09-11T02:55:58.807889Z",
     "iopub.status.busy": "2024-09-11T02:55:58.807446Z",
     "iopub.status.idle": "2024-09-11T02:55:58.832895Z",
     "shell.execute_reply": "2024-09-11T02:55:58.831739Z"
    },
    "papermill": {
     "duration": 0.0468,
     "end_time": "2024-09-11T02:55:58.835662",
     "exception": false,
     "start_time": "2024-09-11T02:55:58.788862",
     "status": "completed"
    },
    "tags": []
   },
   "outputs": [
    {
     "data": {
      "text/html": [
       "<div>\n",
       "<style scoped>\n",
       "    .dataframe tbody tr th:only-of-type {\n",
       "        vertical-align: middle;\n",
       "    }\n",
       "\n",
       "    .dataframe tbody tr th {\n",
       "        vertical-align: top;\n",
       "    }\n",
       "\n",
       "    .dataframe thead th {\n",
       "        text-align: right;\n",
       "    }\n",
       "</style>\n",
       "<table border=\"1\" class=\"dataframe\">\n",
       "  <thead>\n",
       "    <tr style=\"text-align: right;\">\n",
       "      <th></th>\n",
       "      <th>id</th>\n",
       "      <th>keyword</th>\n",
       "      <th>location</th>\n",
       "      <th>text</th>\n",
       "      <th>target</th>\n",
       "    </tr>\n",
       "  </thead>\n",
       "  <tbody>\n",
       "    <tr>\n",
       "      <th>0</th>\n",
       "      <td>1</td>\n",
       "      <td>NaN</td>\n",
       "      <td>NaN</td>\n",
       "      <td>Our Deeds are the Reason of this #earthquake May ALLAH Forgive us all</td>\n",
       "      <td>1</td>\n",
       "    </tr>\n",
       "    <tr>\n",
       "      <th>1</th>\n",
       "      <td>4</td>\n",
       "      <td>NaN</td>\n",
       "      <td>NaN</td>\n",
       "      <td>Forest fire near La Ronge Sask. Canada</td>\n",
       "      <td>1</td>\n",
       "    </tr>\n",
       "    <tr>\n",
       "      <th>2</th>\n",
       "      <td>5</td>\n",
       "      <td>NaN</td>\n",
       "      <td>NaN</td>\n",
       "      <td>All residents asked to 'shelter in place' are being notified by officers. No other evacuation or...</td>\n",
       "      <td>1</td>\n",
       "    </tr>\n",
       "  </tbody>\n",
       "</table>\n",
       "</div>"
      ],
      "text/plain": [
       "   id keyword location  \\\n",
       "0   1     NaN      NaN   \n",
       "1   4     NaN      NaN   \n",
       "2   5     NaN      NaN   \n",
       "\n",
       "                                                                                                  text  \\\n",
       "0                                Our Deeds are the Reason of this #earthquake May ALLAH Forgive us all   \n",
       "1                                                               Forest fire near La Ronge Sask. Canada   \n",
       "2  All residents asked to 'shelter in place' are being notified by officers. No other evacuation or...   \n",
       "\n",
       "   target  \n",
       "0       1  \n",
       "1       1  \n",
       "2       1  "
      ]
     },
     "execution_count": 6,
     "metadata": {},
     "output_type": "execute_result"
    }
   ],
   "source": [
    "df.head(3)"
   ]
  },
  {
   "cell_type": "markdown",
   "id": "b63f6b6f",
   "metadata": {
    "papermill": {
     "duration": 0.017161,
     "end_time": "2024-09-11T02:55:58.870442",
     "exception": false,
     "start_time": "2024-09-11T02:55:58.853281",
     "status": "completed"
    },
    "tags": []
   },
   "source": [
    "## Preprocessing"
   ]
  },
  {
   "cell_type": "code",
   "execution_count": 7,
   "id": "a6dc9e1a",
   "metadata": {
    "execution": {
     "iopub.execute_input": "2024-09-11T02:55:58.906968Z",
     "iopub.status.busy": "2024-09-11T02:55:58.906514Z",
     "iopub.status.idle": "2024-09-11T02:55:58.911661Z",
     "shell.execute_reply": "2024-09-11T02:55:58.910420Z"
    },
    "papermill": {
     "duration": 0.026316,
     "end_time": "2024-09-11T02:55:58.913967",
     "exception": false,
     "start_time": "2024-09-11T02:55:58.887651",
     "status": "completed"
    },
    "tags": []
   },
   "outputs": [],
   "source": [
    "import re"
   ]
  },
  {
   "cell_type": "code",
   "execution_count": 8,
   "id": "58655c6e",
   "metadata": {
    "execution": {
     "iopub.execute_input": "2024-09-11T02:55:58.950959Z",
     "iopub.status.busy": "2024-09-11T02:55:58.950518Z",
     "iopub.status.idle": "2024-09-11T02:55:58.956990Z",
     "shell.execute_reply": "2024-09-11T02:55:58.955830Z"
    },
    "papermill": {
     "duration": 0.02814,
     "end_time": "2024-09-11T02:55:58.959670",
     "exception": false,
     "start_time": "2024-09-11T02:55:58.931530",
     "status": "completed"
    },
    "tags": []
   },
   "outputs": [],
   "source": [
    "def lowercase_first_word(text):\n",
    "    # Define a regular expression to find the first word in the sentence\n",
    "    match = re.match(r'^\\w+', text)  # Match the first word at the start of the string\n",
    "    \n",
    "    if match:  # If a match is found\n",
    "        first_word = match.group(0)  # Extract the first word\n",
    "        # Replace the first word with its lowercase version in the text\n",
    "        return text.replace(first_word, first_word.lower(), 1)  # Only replace the first occurrence\n",
    "    return text  # If no match is found, return the original text"
   ]
  },
  {
   "cell_type": "code",
   "execution_count": 9,
   "id": "9d06a3ed",
   "metadata": {
    "execution": {
     "iopub.execute_input": "2024-09-11T02:55:58.997472Z",
     "iopub.status.busy": "2024-09-11T02:55:58.996179Z",
     "iopub.status.idle": "2024-09-11T02:55:59.024238Z",
     "shell.execute_reply": "2024-09-11T02:55:59.022958Z"
    },
    "papermill": {
     "duration": 0.049958,
     "end_time": "2024-09-11T02:55:59.027187",
     "exception": false,
     "start_time": "2024-09-11T02:55:58.977229",
     "status": "completed"
    },
    "tags": []
   },
   "outputs": [],
   "source": [
    "df['basic_text'] = df['text'].apply(lowercase_first_word)"
   ]
  },
  {
   "cell_type": "code",
   "execution_count": 10,
   "id": "3ec513c2",
   "metadata": {
    "execution": {
     "iopub.execute_input": "2024-09-11T02:55:59.064223Z",
     "iopub.status.busy": "2024-09-11T02:55:59.063770Z",
     "iopub.status.idle": "2024-09-11T02:55:59.078198Z",
     "shell.execute_reply": "2024-09-11T02:55:59.076910Z"
    },
    "papermill": {
     "duration": 0.036062,
     "end_time": "2024-09-11T02:55:59.080817",
     "exception": false,
     "start_time": "2024-09-11T02:55:59.044755",
     "status": "completed"
    },
    "tags": []
   },
   "outputs": [
    {
     "data": {
      "text/html": [
       "<div>\n",
       "<style scoped>\n",
       "    .dataframe tbody tr th:only-of-type {\n",
       "        vertical-align: middle;\n",
       "    }\n",
       "\n",
       "    .dataframe tbody tr th {\n",
       "        vertical-align: top;\n",
       "    }\n",
       "\n",
       "    .dataframe thead th {\n",
       "        text-align: right;\n",
       "    }\n",
       "</style>\n",
       "<table border=\"1\" class=\"dataframe\">\n",
       "  <thead>\n",
       "    <tr style=\"text-align: right;\">\n",
       "      <th></th>\n",
       "      <th>id</th>\n",
       "      <th>keyword</th>\n",
       "      <th>location</th>\n",
       "      <th>text</th>\n",
       "      <th>target</th>\n",
       "      <th>basic_text</th>\n",
       "    </tr>\n",
       "  </thead>\n",
       "  <tbody>\n",
       "    <tr>\n",
       "      <th>0</th>\n",
       "      <td>1</td>\n",
       "      <td>NaN</td>\n",
       "      <td>NaN</td>\n",
       "      <td>Our Deeds are the Reason of this #earthquake May ALLAH Forgive us all</td>\n",
       "      <td>1</td>\n",
       "      <td>our Deeds are the Reason of this #earthquake May ALLAH Forgive us all</td>\n",
       "    </tr>\n",
       "    <tr>\n",
       "      <th>1</th>\n",
       "      <td>4</td>\n",
       "      <td>NaN</td>\n",
       "      <td>NaN</td>\n",
       "      <td>Forest fire near La Ronge Sask. Canada</td>\n",
       "      <td>1</td>\n",
       "      <td>forest fire near La Ronge Sask. Canada</td>\n",
       "    </tr>\n",
       "    <tr>\n",
       "      <th>2</th>\n",
       "      <td>5</td>\n",
       "      <td>NaN</td>\n",
       "      <td>NaN</td>\n",
       "      <td>All residents asked to 'shelter in place' are being notified by officers. No other evacuation or...</td>\n",
       "      <td>1</td>\n",
       "      <td>all residents asked to 'shelter in place' are being notified by officers. No other evacuation or...</td>\n",
       "    </tr>\n",
       "  </tbody>\n",
       "</table>\n",
       "</div>"
      ],
      "text/plain": [
       "   id keyword location  \\\n",
       "0   1     NaN      NaN   \n",
       "1   4     NaN      NaN   \n",
       "2   5     NaN      NaN   \n",
       "\n",
       "                                                                                                  text  \\\n",
       "0                                Our Deeds are the Reason of this #earthquake May ALLAH Forgive us all   \n",
       "1                                                               Forest fire near La Ronge Sask. Canada   \n",
       "2  All residents asked to 'shelter in place' are being notified by officers. No other evacuation or...   \n",
       "\n",
       "   target  \\\n",
       "0       1   \n",
       "1       1   \n",
       "2       1   \n",
       "\n",
       "                                                                                            basic_text  \n",
       "0                                our Deeds are the Reason of this #earthquake May ALLAH Forgive us all  \n",
       "1                                                               forest fire near La Ronge Sask. Canada  \n",
       "2  all residents asked to 'shelter in place' are being notified by officers. No other evacuation or...  "
      ]
     },
     "execution_count": 10,
     "metadata": {},
     "output_type": "execute_result"
    }
   ],
   "source": [
    "df.head(3)"
   ]
  },
  {
   "cell_type": "markdown",
   "id": "5802fb4b",
   "metadata": {
    "papermill": {
     "duration": 0.017996,
     "end_time": "2024-09-11T02:55:59.116716",
     "exception": false,
     "start_time": "2024-09-11T02:55:59.098720",
     "status": "completed"
    },
    "tags": []
   },
   "source": [
    "## Data Split"
   ]
  },
  {
   "cell_type": "code",
   "execution_count": 11,
   "id": "5d453a92",
   "metadata": {
    "execution": {
     "iopub.execute_input": "2024-09-11T02:55:59.154534Z",
     "iopub.status.busy": "2024-09-11T02:55:59.154055Z",
     "iopub.status.idle": "2024-09-11T02:55:59.160190Z",
     "shell.execute_reply": "2024-09-11T02:55:59.158843Z"
    },
    "papermill": {
     "duration": 0.028252,
     "end_time": "2024-09-11T02:55:59.162969",
     "exception": false,
     "start_time": "2024-09-11T02:55:59.134717",
     "status": "completed"
    },
    "tags": []
   },
   "outputs": [],
   "source": [
    "X = df['basic_text']\n",
    "y = df['target']"
   ]
  },
  {
   "cell_type": "code",
   "execution_count": 12,
   "id": "d623ec97",
   "metadata": {
    "execution": {
     "iopub.execute_input": "2024-09-11T02:55:59.204718Z",
     "iopub.status.busy": "2024-09-11T02:55:59.203460Z",
     "iopub.status.idle": "2024-09-11T02:55:59.223912Z",
     "shell.execute_reply": "2024-09-11T02:55:59.222656Z"
    },
    "papermill": {
     "duration": 0.045006,
     "end_time": "2024-09-11T02:55:59.226591",
     "exception": false,
     "start_time": "2024-09-11T02:55:59.181585",
     "status": "completed"
    },
    "tags": []
   },
   "outputs": [
    {
     "data": {
      "text/plain": [
       "target\n",
       "0    0.57034\n",
       "1    0.42966\n",
       "Name: proportion, dtype: float64"
      ]
     },
     "execution_count": 12,
     "metadata": {},
     "output_type": "execute_result"
    }
   ],
   "source": [
    "y.value_counts(normalize=True)"
   ]
  },
  {
   "cell_type": "code",
   "execution_count": 13,
   "id": "1ce41ca1",
   "metadata": {
    "execution": {
     "iopub.execute_input": "2024-09-11T02:55:59.266071Z",
     "iopub.status.busy": "2024-09-11T02:55:59.265598Z",
     "iopub.status.idle": "2024-09-11T02:55:59.271431Z",
     "shell.execute_reply": "2024-09-11T02:55:59.270010Z"
    },
    "papermill": {
     "duration": 0.028686,
     "end_time": "2024-09-11T02:55:59.274125",
     "exception": false,
     "start_time": "2024-09-11T02:55:59.245439",
     "status": "completed"
    },
    "tags": []
   },
   "outputs": [],
   "source": [
    "threshold = 0.45 "
   ]
  },
  {
   "cell_type": "code",
   "execution_count": 14,
   "id": "d7d457a0",
   "metadata": {
    "execution": {
     "iopub.execute_input": "2024-09-11T02:55:59.312357Z",
     "iopub.status.busy": "2024-09-11T02:55:59.311827Z",
     "iopub.status.idle": "2024-09-11T02:55:59.326964Z",
     "shell.execute_reply": "2024-09-11T02:55:59.325840Z"
    },
    "papermill": {
     "duration": 0.037572,
     "end_time": "2024-09-11T02:55:59.329796",
     "exception": false,
     "start_time": "2024-09-11T02:55:59.292224",
     "status": "completed"
    },
    "tags": []
   },
   "outputs": [],
   "source": [
    "X_train, X_test, y_train, y_test = train_test_split(X, y, test_size=0.2, random_state=42)"
   ]
  },
  {
   "cell_type": "markdown",
   "id": "956bcfc5",
   "metadata": {
    "papermill": {
     "duration": 0.018082,
     "end_time": "2024-09-11T02:55:59.366869",
     "exception": false,
     "start_time": "2024-09-11T02:55:59.348787",
     "status": "completed"
    },
    "tags": []
   },
   "source": [
    "---"
   ]
  },
  {
   "cell_type": "markdown",
   "id": "8a5ee907",
   "metadata": {
    "papermill": {
     "duration": 0.019225,
     "end_time": "2024-09-11T02:55:59.404073",
     "exception": false,
     "start_time": "2024-09-11T02:55:59.384848",
     "status": "completed"
    },
    "tags": []
   },
   "source": [
    "# Basic Bag of Words\n",
    "- Consists of a bag of words with a simple preprocessing step."
   ]
  },
  {
   "cell_type": "code",
   "execution_count": 15,
   "id": "3d9ab864",
   "metadata": {
    "execution": {
     "iopub.execute_input": "2024-09-11T02:55:59.441966Z",
     "iopub.status.busy": "2024-09-11T02:55:59.441473Z",
     "iopub.status.idle": "2024-09-11T02:55:59.447232Z",
     "shell.execute_reply": "2024-09-11T02:55:59.445946Z"
    },
    "papermill": {
     "duration": 0.027935,
     "end_time": "2024-09-11T02:55:59.449857",
     "exception": false,
     "start_time": "2024-09-11T02:55:59.421922",
     "status": "completed"
    },
    "tags": []
   },
   "outputs": [],
   "source": [
    "# Bag of Words (CountVectorizer)\n",
    "vectorizer = CountVectorizer()"
   ]
  },
  {
   "cell_type": "code",
   "execution_count": 16,
   "id": "391a1b8b",
   "metadata": {
    "execution": {
     "iopub.execute_input": "2024-09-11T02:55:59.487625Z",
     "iopub.status.busy": "2024-09-11T02:55:59.487164Z",
     "iopub.status.idle": "2024-09-11T02:55:59.749885Z",
     "shell.execute_reply": "2024-09-11T02:55:59.748577Z"
    },
    "papermill": {
     "duration": 0.284905,
     "end_time": "2024-09-11T02:55:59.752778",
     "exception": false,
     "start_time": "2024-09-11T02:55:59.467873",
     "status": "completed"
    },
    "tags": []
   },
   "outputs": [],
   "source": [
    "X_train_bow = vectorizer.fit_transform(X_train).astype('float64')\n",
    "X_test_bow = vectorizer.transform(X_test).astype('float64')"
   ]
  },
  {
   "cell_type": "code",
   "execution_count": 17,
   "id": "c4ea91da",
   "metadata": {
    "execution": {
     "iopub.execute_input": "2024-09-11T02:55:59.791119Z",
     "iopub.status.busy": "2024-09-11T02:55:59.790616Z",
     "iopub.status.idle": "2024-09-11T02:56:01.063020Z",
     "shell.execute_reply": "2024-09-11T02:56:01.061706Z"
    },
    "papermill": {
     "duration": 1.294689,
     "end_time": "2024-09-11T02:56:01.066064",
     "exception": false,
     "start_time": "2024-09-11T02:55:59.771375",
     "status": "completed"
    },
    "tags": []
   },
   "outputs": [],
   "source": [
    "from lightgbm import LGBMClassifier"
   ]
  },
  {
   "cell_type": "code",
   "execution_count": 18,
   "id": "011bf60e",
   "metadata": {
    "execution": {
     "iopub.execute_input": "2024-09-11T02:56:01.105716Z",
     "iopub.status.busy": "2024-09-11T02:56:01.105067Z",
     "iopub.status.idle": "2024-09-11T02:56:01.111097Z",
     "shell.execute_reply": "2024-09-11T02:56:01.109867Z"
    },
    "papermill": {
     "duration": 0.028166,
     "end_time": "2024-09-11T02:56:01.113761",
     "exception": false,
     "start_time": "2024-09-11T02:56:01.085595",
     "status": "completed"
    },
    "tags": []
   },
   "outputs": [],
   "source": [
    "model = LGBMClassifier(random_state=42)"
   ]
  },
  {
   "cell_type": "code",
   "execution_count": 19,
   "id": "35d3ad42",
   "metadata": {
    "execution": {
     "iopub.execute_input": "2024-09-11T02:56:01.153438Z",
     "iopub.status.busy": "2024-09-11T02:56:01.152361Z",
     "iopub.status.idle": "2024-09-11T02:56:02.156846Z",
     "shell.execute_reply": "2024-09-11T02:56:02.155664Z"
    },
    "papermill": {
     "duration": 1.027374,
     "end_time": "2024-09-11T02:56:02.159363",
     "exception": false,
     "start_time": "2024-09-11T02:56:01.131989",
     "status": "completed"
    },
    "tags": []
   },
   "outputs": [
    {
     "name": "stdout",
     "output_type": "stream",
     "text": [
      "[LightGBM] [Info] Number of positive: 2622, number of negative: 3468\n",
      "[LightGBM] [Info] Auto-choosing row-wise multi-threading, the overhead of testing was 0.033347 seconds.\n",
      "You can set `force_row_wise=true` to remove the overhead.\n",
      "And if memory is not enough, you can set `force_col_wise=true`.\n",
      "[LightGBM] [Info] Total Bins 1860\n",
      "[LightGBM] [Info] Number of data points in the train set: 6090, number of used features: 705\n",
      "[LightGBM] [Info] [binary:BoostFromScore]: pavg=0.430542 -> initscore=-0.279641\n",
      "[LightGBM] [Info] Start training from score -0.279641\n"
     ]
    },
    {
     "data": {
      "text/html": [
       "<style>#sk-container-id-1 {color: black;background-color: white;}#sk-container-id-1 pre{padding: 0;}#sk-container-id-1 div.sk-toggleable {background-color: white;}#sk-container-id-1 label.sk-toggleable__label {cursor: pointer;display: block;width: 100%;margin-bottom: 0;padding: 0.3em;box-sizing: border-box;text-align: center;}#sk-container-id-1 label.sk-toggleable__label-arrow:before {content: \"▸\";float: left;margin-right: 0.25em;color: #696969;}#sk-container-id-1 label.sk-toggleable__label-arrow:hover:before {color: black;}#sk-container-id-1 div.sk-estimator:hover label.sk-toggleable__label-arrow:before {color: black;}#sk-container-id-1 div.sk-toggleable__content {max-height: 0;max-width: 0;overflow: hidden;text-align: left;background-color: #f0f8ff;}#sk-container-id-1 div.sk-toggleable__content pre {margin: 0.2em;color: black;border-radius: 0.25em;background-color: #f0f8ff;}#sk-container-id-1 input.sk-toggleable__control:checked~div.sk-toggleable__content {max-height: 200px;max-width: 100%;overflow: auto;}#sk-container-id-1 input.sk-toggleable__control:checked~label.sk-toggleable__label-arrow:before {content: \"▾\";}#sk-container-id-1 div.sk-estimator input.sk-toggleable__control:checked~label.sk-toggleable__label {background-color: #d4ebff;}#sk-container-id-1 div.sk-label input.sk-toggleable__control:checked~label.sk-toggleable__label {background-color: #d4ebff;}#sk-container-id-1 input.sk-hidden--visually {border: 0;clip: rect(1px 1px 1px 1px);clip: rect(1px, 1px, 1px, 1px);height: 1px;margin: -1px;overflow: hidden;padding: 0;position: absolute;width: 1px;}#sk-container-id-1 div.sk-estimator {font-family: monospace;background-color: #f0f8ff;border: 1px dotted black;border-radius: 0.25em;box-sizing: border-box;margin-bottom: 0.5em;}#sk-container-id-1 div.sk-estimator:hover {background-color: #d4ebff;}#sk-container-id-1 div.sk-parallel-item::after {content: \"\";width: 100%;border-bottom: 1px solid gray;flex-grow: 1;}#sk-container-id-1 div.sk-label:hover label.sk-toggleable__label {background-color: #d4ebff;}#sk-container-id-1 div.sk-serial::before {content: \"\";position: absolute;border-left: 1px solid gray;box-sizing: border-box;top: 0;bottom: 0;left: 50%;z-index: 0;}#sk-container-id-1 div.sk-serial {display: flex;flex-direction: column;align-items: center;background-color: white;padding-right: 0.2em;padding-left: 0.2em;position: relative;}#sk-container-id-1 div.sk-item {position: relative;z-index: 1;}#sk-container-id-1 div.sk-parallel {display: flex;align-items: stretch;justify-content: center;background-color: white;position: relative;}#sk-container-id-1 div.sk-item::before, #sk-container-id-1 div.sk-parallel-item::before {content: \"\";position: absolute;border-left: 1px solid gray;box-sizing: border-box;top: 0;bottom: 0;left: 50%;z-index: -1;}#sk-container-id-1 div.sk-parallel-item {display: flex;flex-direction: column;z-index: 1;position: relative;background-color: white;}#sk-container-id-1 div.sk-parallel-item:first-child::after {align-self: flex-end;width: 50%;}#sk-container-id-1 div.sk-parallel-item:last-child::after {align-self: flex-start;width: 50%;}#sk-container-id-1 div.sk-parallel-item:only-child::after {width: 0;}#sk-container-id-1 div.sk-dashed-wrapped {border: 1px dashed gray;margin: 0 0.4em 0.5em 0.4em;box-sizing: border-box;padding-bottom: 0.4em;background-color: white;}#sk-container-id-1 div.sk-label label {font-family: monospace;font-weight: bold;display: inline-block;line-height: 1.2em;}#sk-container-id-1 div.sk-label-container {text-align: center;}#sk-container-id-1 div.sk-container {/* jupyter's `normalize.less` sets `[hidden] { display: none; }` but bootstrap.min.css set `[hidden] { display: none !important; }` so we also need the `!important` here to be able to override the default hidden behavior on the sphinx rendered scikit-learn.org. See: https://github.com/scikit-learn/scikit-learn/issues/21755 */display: inline-block !important;position: relative;}#sk-container-id-1 div.sk-text-repr-fallback {display: none;}</style><div id=\"sk-container-id-1\" class=\"sk-top-container\"><div class=\"sk-text-repr-fallback\"><pre>LGBMClassifier(random_state=42)</pre><b>In a Jupyter environment, please rerun this cell to show the HTML representation or trust the notebook. <br />On GitHub, the HTML representation is unable to render, please try loading this page with nbviewer.org.</b></div><div class=\"sk-container\" hidden><div class=\"sk-item\"><div class=\"sk-estimator sk-toggleable\"><input class=\"sk-toggleable__control sk-hidden--visually\" id=\"sk-estimator-id-1\" type=\"checkbox\" checked><label for=\"sk-estimator-id-1\" class=\"sk-toggleable__label sk-toggleable__label-arrow\">LGBMClassifier</label><div class=\"sk-toggleable__content\"><pre>LGBMClassifier(random_state=42)</pre></div></div></div></div></div>"
      ],
      "text/plain": [
       "LGBMClassifier(random_state=42)"
      ]
     },
     "execution_count": 19,
     "metadata": {},
     "output_type": "execute_result"
    }
   ],
   "source": [
    "model.fit(X_train_bow, y_train)"
   ]
  },
  {
   "cell_type": "code",
   "execution_count": 20,
   "id": "dc884f8b",
   "metadata": {
    "execution": {
     "iopub.execute_input": "2024-09-11T02:56:02.198450Z",
     "iopub.status.busy": "2024-09-11T02:56:02.197938Z",
     "iopub.status.idle": "2024-09-11T02:56:02.220154Z",
     "shell.execute_reply": "2024-09-11T02:56:02.218894Z"
    },
    "papermill": {
     "duration": 0.044953,
     "end_time": "2024-09-11T02:56:02.222974",
     "exception": false,
     "start_time": "2024-09-11T02:56:02.178021",
     "status": "completed"
    },
    "tags": []
   },
   "outputs": [],
   "source": [
    "probs = model.predict_proba(X_test_bow)[:, 1]"
   ]
  },
  {
   "cell_type": "code",
   "execution_count": 21,
   "id": "67882368",
   "metadata": {
    "execution": {
     "iopub.execute_input": "2024-09-11T02:56:02.262011Z",
     "iopub.status.busy": "2024-09-11T02:56:02.261548Z",
     "iopub.status.idle": "2024-09-11T02:56:02.267575Z",
     "shell.execute_reply": "2024-09-11T02:56:02.266256Z"
    },
    "papermill": {
     "duration": 0.028578,
     "end_time": "2024-09-11T02:56:02.270069",
     "exception": false,
     "start_time": "2024-09-11T02:56:02.241491",
     "status": "completed"
    },
    "tags": []
   },
   "outputs": [],
   "source": [
    "predictions = np.where(probs >= threshold, 1, 0)"
   ]
  },
  {
   "cell_type": "code",
   "execution_count": 22,
   "id": "410fef3f",
   "metadata": {
    "execution": {
     "iopub.execute_input": "2024-09-11T02:56:02.310544Z",
     "iopub.status.busy": "2024-09-11T02:56:02.309407Z",
     "iopub.status.idle": "2024-09-11T02:56:02.323666Z",
     "shell.execute_reply": "2024-09-11T02:56:02.322316Z"
    },
    "papermill": {
     "duration": 0.03744,
     "end_time": "2024-09-11T02:56:02.326333",
     "exception": false,
     "start_time": "2024-09-11T02:56:02.288893",
     "status": "completed"
    },
    "tags": []
   },
   "outputs": [
    {
     "data": {
      "text/plain": [
       "0.7460317460317459"
      ]
     },
     "execution_count": 22,
     "metadata": {},
     "output_type": "execute_result"
    }
   ],
   "source": [
    "f1_score(y_test, predictions)"
   ]
  },
  {
   "cell_type": "code",
   "execution_count": 23,
   "id": "5d6a21b4",
   "metadata": {
    "execution": {
     "iopub.execute_input": "2024-09-11T02:56:02.368183Z",
     "iopub.status.busy": "2024-09-11T02:56:02.367698Z",
     "iopub.status.idle": "2024-09-11T02:56:02.381532Z",
     "shell.execute_reply": "2024-09-11T02:56:02.380178Z"
    },
    "papermill": {
     "duration": 0.038143,
     "end_time": "2024-09-11T02:56:02.384282",
     "exception": false,
     "start_time": "2024-09-11T02:56:02.346139",
     "status": "completed"
    },
    "tags": []
   },
   "outputs": [
    {
     "data": {
      "text/plain": [
       "0.724191063174114"
      ]
     },
     "execution_count": 23,
     "metadata": {},
     "output_type": "execute_result"
    }
   ],
   "source": [
    "recall_score(y_test, predictions)"
   ]
  },
  {
   "cell_type": "code",
   "execution_count": 24,
   "id": "e321e4db",
   "metadata": {
    "execution": {
     "iopub.execute_input": "2024-09-11T02:56:02.426075Z",
     "iopub.status.busy": "2024-09-11T02:56:02.425613Z",
     "iopub.status.idle": "2024-09-11T02:56:02.437504Z",
     "shell.execute_reply": "2024-09-11T02:56:02.436343Z"
    },
    "papermill": {
     "duration": 0.037088,
     "end_time": "2024-09-11T02:56:02.440260",
     "exception": false,
     "start_time": "2024-09-11T02:56:02.403172",
     "status": "completed"
    },
    "tags": []
   },
   "outputs": [
    {
     "data": {
      "text/plain": [
       "0.7692307692307693"
      ]
     },
     "execution_count": 24,
     "metadata": {},
     "output_type": "execute_result"
    }
   ],
   "source": [
    "precision_score(y_test, predictions)"
   ]
  },
  {
   "cell_type": "markdown",
   "id": "710858b7",
   "metadata": {
    "papermill": {
     "duration": 0.018548,
     "end_time": "2024-09-11T02:56:02.479418",
     "exception": false,
     "start_time": "2024-09-11T02:56:02.460870",
     "status": "completed"
    },
    "tags": []
   },
   "source": [
    "- Before to continue, I'll create a function to execute and reporte metrics of the BOW vectorization."
   ]
  },
  {
   "cell_type": "code",
   "execution_count": 25,
   "id": "aabedb1f",
   "metadata": {
    "execution": {
     "iopub.execute_input": "2024-09-11T02:56:02.520419Z",
     "iopub.status.busy": "2024-09-11T02:56:02.519043Z",
     "iopub.status.idle": "2024-09-11T02:56:02.525821Z",
     "shell.execute_reply": "2024-09-11T02:56:02.524648Z"
    },
    "papermill": {
     "duration": 0.030467,
     "end_time": "2024-09-11T02:56:02.528770",
     "exception": false,
     "start_time": "2024-09-11T02:56:02.498303",
     "status": "completed"
    },
    "tags": []
   },
   "outputs": [],
   "source": [
    "from sklearn.metrics import roc_auc_score"
   ]
  },
  {
   "cell_type": "code",
   "execution_count": 26,
   "id": "d88840c6",
   "metadata": {
    "execution": {
     "iopub.execute_input": "2024-09-11T02:56:02.569928Z",
     "iopub.status.busy": "2024-09-11T02:56:02.569480Z",
     "iopub.status.idle": "2024-09-11T02:56:02.582824Z",
     "shell.execute_reply": "2024-09-11T02:56:02.581315Z"
    },
    "papermill": {
     "duration": 0.036842,
     "end_time": "2024-09-11T02:56:02.585640",
     "exception": false,
     "start_time": "2024-09-11T02:56:02.548798",
     "status": "completed"
    },
    "tags": []
   },
   "outputs": [],
   "source": [
    "def train_bow(text_column: str, target: str, threshold: float, dataframe: pd.DataFrame) -> None:\n",
    "    copy = dataframe.copy(deep=True)\n",
    "    \n",
    "    tmp_X = copy[text_column]\n",
    "    tmp_y = copy[target]\n",
    "    \n",
    "    X_train, X_test, y_train, y_test = train_test_split(tmp_X, tmp_y, test_size=0.2, random_state=42)\n",
    "    \n",
    "    vectorizer = CountVectorizer()\n",
    "    \n",
    "    X_train_bow = vectorizer.fit_transform(X_train).astype('float64')\n",
    "    X_test_bow = vectorizer.transform(X_test).astype('float64')\n",
    "    \n",
    "    model = LGBMClassifier(random_state=42).fit(X_train_bow, y_train)\n",
    "    \n",
    "    probs = model.predict_proba(X_test_bow)[:, 1]\n",
    "    y_test_pred = np.where(probs >= threshold, 1, 0)\n",
    "    \n",
    "    f1_score_value = f1_score(y_test, y_test_pred)    \n",
    "    recall_value = recall_score(y_test, y_test_pred)\n",
    "    precision_value = precision_score(y_test, y_test_pred)\n",
    "    auc_score = roc_auc_score(y_test, probs)\n",
    "\n",
    "    print(f\"AUC Score: {auc_score:.4f}\")\n",
    "    print(f\"F1 Score: {f1_score_value:.4f}\")\n",
    "    print(f\"Recall: {recall_value:.4f}\")\n",
    "    print(f\"Precision: {precision_value:.4f}\")"
   ]
  },
  {
   "cell_type": "markdown",
   "id": "76faa1bf",
   "metadata": {
    "papermill": {
     "duration": 0.018564,
     "end_time": "2024-09-11T02:56:02.623590",
     "exception": false,
     "start_time": "2024-09-11T02:56:02.605026",
     "status": "completed"
    },
    "tags": []
   },
   "source": [
    "---"
   ]
  },
  {
   "cell_type": "markdown",
   "id": "c111d5b7",
   "metadata": {
    "papermill": {
     "duration": 0.018477,
     "end_time": "2024-09-11T02:56:02.660867",
     "exception": false,
     "start_time": "2024-09-11T02:56:02.642390",
     "status": "completed"
    },
    "tags": []
   },
   "source": [
    "# Lemmatization and Stemming"
   ]
  },
  {
   "cell_type": "code",
   "execution_count": 27,
   "id": "e7aef670",
   "metadata": {
    "execution": {
     "iopub.execute_input": "2024-09-11T02:56:02.755986Z",
     "iopub.status.busy": "2024-09-11T02:56:02.755535Z",
     "iopub.status.idle": "2024-09-11T02:56:03.365646Z",
     "shell.execute_reply": "2024-09-11T02:56:03.364362Z"
    },
    "papermill": {
     "duration": 0.688917,
     "end_time": "2024-09-11T02:56:03.368615",
     "exception": false,
     "start_time": "2024-09-11T02:56:02.679698",
     "status": "completed"
    },
    "tags": []
   },
   "outputs": [],
   "source": [
    "import nltk\n",
    "from nltk.stem import PorterStemmer"
   ]
  },
  {
   "cell_type": "code",
   "execution_count": 28,
   "id": "aa5ff8a4",
   "metadata": {
    "execution": {
     "iopub.execute_input": "2024-09-11T02:56:03.409383Z",
     "iopub.status.busy": "2024-09-11T02:56:03.408892Z",
     "iopub.status.idle": "2024-09-11T02:56:03.416578Z",
     "shell.execute_reply": "2024-09-11T02:56:03.415070Z"
    },
    "papermill": {
     "duration": 0.031379,
     "end_time": "2024-09-11T02:56:03.419379",
     "exception": false,
     "start_time": "2024-09-11T02:56:03.388000",
     "status": "completed"
    },
    "tags": []
   },
   "outputs": [],
   "source": [
    "stemmer = PorterStemmer()"
   ]
  },
  {
   "cell_type": "code",
   "execution_count": 29,
   "id": "fb554e2f",
   "metadata": {
    "execution": {
     "iopub.execute_input": "2024-09-11T02:56:03.460564Z",
     "iopub.status.busy": "2024-09-11T02:56:03.460098Z",
     "iopub.status.idle": "2024-09-11T02:56:03.466970Z",
     "shell.execute_reply": "2024-09-11T02:56:03.465652Z"
    },
    "papermill": {
     "duration": 0.031229,
     "end_time": "2024-09-11T02:56:03.469535",
     "exception": false,
     "start_time": "2024-09-11T02:56:03.438306",
     "status": "completed"
    },
    "tags": []
   },
   "outputs": [],
   "source": [
    "def stem_text(text):\n",
    "    words = text.split()  # Split the text into words using whitespace\n",
    "    stemmed_words = [stemmer.stem(word) for word in words]  # Stem each word\n",
    "    return ' '.join(stemmed_words)"
   ]
  },
  {
   "cell_type": "code",
   "execution_count": 30,
   "id": "83fbf116",
   "metadata": {
    "execution": {
     "iopub.execute_input": "2024-09-11T02:56:03.509348Z",
     "iopub.status.busy": "2024-09-11T02:56:03.508876Z",
     "iopub.status.idle": "2024-09-11T02:56:07.221060Z",
     "shell.execute_reply": "2024-09-11T02:56:07.219968Z"
    },
    "papermill": {
     "duration": 3.735364,
     "end_time": "2024-09-11T02:56:07.223837",
     "exception": false,
     "start_time": "2024-09-11T02:56:03.488473",
     "status": "completed"
    },
    "tags": []
   },
   "outputs": [],
   "source": [
    "df['stemmed_text'] = df['basic_text'].apply(stem_text)"
   ]
  },
  {
   "cell_type": "code",
   "execution_count": 31,
   "id": "8e0c6fb9",
   "metadata": {
    "execution": {
     "iopub.execute_input": "2024-09-11T02:56:07.263371Z",
     "iopub.status.busy": "2024-09-11T02:56:07.262908Z",
     "iopub.status.idle": "2024-09-11T02:56:13.258502Z",
     "shell.execute_reply": "2024-09-11T02:56:13.257143Z"
    },
    "papermill": {
     "duration": 6.018698,
     "end_time": "2024-09-11T02:56:13.261427",
     "exception": false,
     "start_time": "2024-09-11T02:56:07.242729",
     "status": "completed"
    },
    "tags": []
   },
   "outputs": [],
   "source": [
    "import spacy"
   ]
  },
  {
   "cell_type": "code",
   "execution_count": 32,
   "id": "d3383a51",
   "metadata": {
    "execution": {
     "iopub.execute_input": "2024-09-11T02:56:13.302780Z",
     "iopub.status.busy": "2024-09-11T02:56:13.301451Z",
     "iopub.status.idle": "2024-09-11T02:56:14.776363Z",
     "shell.execute_reply": "2024-09-11T02:56:14.775081Z"
    },
    "papermill": {
     "duration": 1.498659,
     "end_time": "2024-09-11T02:56:14.779556",
     "exception": false,
     "start_time": "2024-09-11T02:56:13.280897",
     "status": "completed"
    },
    "tags": []
   },
   "outputs": [],
   "source": [
    "nlp = spacy.load('en_core_web_sm')"
   ]
  },
  {
   "cell_type": "code",
   "execution_count": 33,
   "id": "fc6ef7f7",
   "metadata": {
    "execution": {
     "iopub.execute_input": "2024-09-11T02:56:14.827901Z",
     "iopub.status.busy": "2024-09-11T02:56:14.827061Z",
     "iopub.status.idle": "2024-09-11T02:56:14.836814Z",
     "shell.execute_reply": "2024-09-11T02:56:14.835340Z"
    },
    "papermill": {
     "duration": 0.036702,
     "end_time": "2024-09-11T02:56:14.839699",
     "exception": false,
     "start_time": "2024-09-11T02:56:14.802997",
     "status": "completed"
    },
    "tags": []
   },
   "outputs": [],
   "source": [
    "def lemmatize_text(text):\n",
    "    doc = nlp(text)  # Process the text with SpaCy's NLP pipeline\n",
    "    lemmatized_words = [token.lemma_ for token in doc]  # Extract lemmatized form for each word\n",
    "    return ' '.join(lemmatized_words)"
   ]
  },
  {
   "cell_type": "code",
   "execution_count": 34,
   "id": "aabb9a1b",
   "metadata": {
    "execution": {
     "iopub.execute_input": "2024-09-11T02:56:14.882318Z",
     "iopub.status.busy": "2024-09-11T02:56:14.881217Z",
     "iopub.status.idle": "2024-09-11T02:57:34.361484Z",
     "shell.execute_reply": "2024-09-11T02:57:34.359869Z"
    },
    "papermill": {
     "duration": 79.505221,
     "end_time": "2024-09-11T02:57:34.364957",
     "exception": false,
     "start_time": "2024-09-11T02:56:14.859736",
     "status": "completed"
    },
    "tags": []
   },
   "outputs": [],
   "source": [
    "df['lemmatized_text'] = df['basic_text'].apply(lemmatize_text)"
   ]
  },
  {
   "cell_type": "code",
   "execution_count": 35,
   "id": "b21b892e",
   "metadata": {
    "execution": {
     "iopub.execute_input": "2024-09-11T02:57:34.405353Z",
     "iopub.status.busy": "2024-09-11T02:57:34.404790Z",
     "iopub.status.idle": "2024-09-11T02:57:34.423062Z",
     "shell.execute_reply": "2024-09-11T02:57:34.421508Z"
    },
    "papermill": {
     "duration": 0.042433,
     "end_time": "2024-09-11T02:57:34.426472",
     "exception": false,
     "start_time": "2024-09-11T02:57:34.384039",
     "status": "completed"
    },
    "tags": []
   },
   "outputs": [
    {
     "data": {
      "text/html": [
       "<div>\n",
       "<style scoped>\n",
       "    .dataframe tbody tr th:only-of-type {\n",
       "        vertical-align: middle;\n",
       "    }\n",
       "\n",
       "    .dataframe tbody tr th {\n",
       "        vertical-align: top;\n",
       "    }\n",
       "\n",
       "    .dataframe thead th {\n",
       "        text-align: right;\n",
       "    }\n",
       "</style>\n",
       "<table border=\"1\" class=\"dataframe\">\n",
       "  <thead>\n",
       "    <tr style=\"text-align: right;\">\n",
       "      <th></th>\n",
       "      <th>id</th>\n",
       "      <th>keyword</th>\n",
       "      <th>location</th>\n",
       "      <th>text</th>\n",
       "      <th>target</th>\n",
       "      <th>basic_text</th>\n",
       "      <th>stemmed_text</th>\n",
       "      <th>lemmatized_text</th>\n",
       "    </tr>\n",
       "  </thead>\n",
       "  <tbody>\n",
       "    <tr>\n",
       "      <th>0</th>\n",
       "      <td>1</td>\n",
       "      <td>NaN</td>\n",
       "      <td>NaN</td>\n",
       "      <td>Our Deeds are the Reason of this #earthquake May ALLAH Forgive us all</td>\n",
       "      <td>1</td>\n",
       "      <td>our Deeds are the Reason of this #earthquake May ALLAH Forgive us all</td>\n",
       "      <td>our deed are the reason of thi #earthquak may allah forgiv us all</td>\n",
       "      <td>our deed be the Reason of this # earthquake may ALLAH forgive we all</td>\n",
       "    </tr>\n",
       "    <tr>\n",
       "      <th>1</th>\n",
       "      <td>4</td>\n",
       "      <td>NaN</td>\n",
       "      <td>NaN</td>\n",
       "      <td>Forest fire near La Ronge Sask. Canada</td>\n",
       "      <td>1</td>\n",
       "      <td>forest fire near La Ronge Sask. Canada</td>\n",
       "      <td>forest fire near La rong sask. canada</td>\n",
       "      <td>forest fire near La Ronge Sask . Canada</td>\n",
       "    </tr>\n",
       "    <tr>\n",
       "      <th>2</th>\n",
       "      <td>5</td>\n",
       "      <td>NaN</td>\n",
       "      <td>NaN</td>\n",
       "      <td>All residents asked to 'shelter in place' are being notified by officers. No other evacuation or...</td>\n",
       "      <td>1</td>\n",
       "      <td>all residents asked to 'shelter in place' are being notified by officers. No other evacuation or...</td>\n",
       "      <td>all resid ask to 'shelter in place' are be notifi by officers. No other evacu or shelter in plac...</td>\n",
       "      <td>all resident ask to ' shelter in place ' be be notify by officer . no other evacuation or shelte...</td>\n",
       "    </tr>\n",
       "  </tbody>\n",
       "</table>\n",
       "</div>"
      ],
      "text/plain": [
       "   id keyword location  \\\n",
       "0   1     NaN      NaN   \n",
       "1   4     NaN      NaN   \n",
       "2   5     NaN      NaN   \n",
       "\n",
       "                                                                                                  text  \\\n",
       "0                                Our Deeds are the Reason of this #earthquake May ALLAH Forgive us all   \n",
       "1                                                               Forest fire near La Ronge Sask. Canada   \n",
       "2  All residents asked to 'shelter in place' are being notified by officers. No other evacuation or...   \n",
       "\n",
       "   target  \\\n",
       "0       1   \n",
       "1       1   \n",
       "2       1   \n",
       "\n",
       "                                                                                            basic_text  \\\n",
       "0                                our Deeds are the Reason of this #earthquake May ALLAH Forgive us all   \n",
       "1                                                               forest fire near La Ronge Sask. Canada   \n",
       "2  all residents asked to 'shelter in place' are being notified by officers. No other evacuation or...   \n",
       "\n",
       "                                                                                          stemmed_text  \\\n",
       "0                                    our deed are the reason of thi #earthquak may allah forgiv us all   \n",
       "1                                                                forest fire near La rong sask. canada   \n",
       "2  all resid ask to 'shelter in place' are be notifi by officers. No other evacu or shelter in plac...   \n",
       "\n",
       "                                                                                       lemmatized_text  \n",
       "0                                 our deed be the Reason of this # earthquake may ALLAH forgive we all  \n",
       "1                                                              forest fire near La Ronge Sask . Canada  \n",
       "2  all resident ask to ' shelter in place ' be be notify by officer . no other evacuation or shelte...  "
      ]
     },
     "execution_count": 35,
     "metadata": {},
     "output_type": "execute_result"
    }
   ],
   "source": [
    "df.head(3)"
   ]
  },
  {
   "cell_type": "code",
   "execution_count": 36,
   "id": "57e7d236",
   "metadata": {
    "execution": {
     "iopub.execute_input": "2024-09-11T02:57:34.468858Z",
     "iopub.status.busy": "2024-09-11T02:57:34.468343Z",
     "iopub.status.idle": "2024-09-11T02:57:35.228166Z",
     "shell.execute_reply": "2024-09-11T02:57:35.226641Z"
    },
    "papermill": {
     "duration": 0.784521,
     "end_time": "2024-09-11T02:57:35.230991",
     "exception": false,
     "start_time": "2024-09-11T02:57:34.446470",
     "status": "completed"
    },
    "tags": []
   },
   "outputs": [
    {
     "name": "stdout",
     "output_type": "stream",
     "text": [
      "[LightGBM] [Info] Number of positive: 2622, number of negative: 3468\n",
      "[LightGBM] [Info] Auto-choosing row-wise multi-threading, the overhead of testing was 0.027354 seconds.\n",
      "You can set `force_row_wise=true` to remove the overhead.\n",
      "And if memory is not enough, you can set `force_col_wise=true`.\n",
      "[LightGBM] [Info] Total Bins 1819\n",
      "[LightGBM] [Info] Number of data points in the train set: 6090, number of used features: 673\n",
      "[LightGBM] [Info] [binary:BoostFromScore]: pavg=0.430542 -> initscore=-0.279641\n",
      "[LightGBM] [Info] Start training from score -0.279641\n",
      "AUC Score: 0.8506\n",
      "F1 Score: 0.7447\n",
      "Recall: 0.7304\n",
      "Precision: 0.7596\n"
     ]
    }
   ],
   "source": [
    "train_bow(\n",
    "    text_column=\"lemmatized_text\",\n",
    "    target=\"target\",\n",
    "    threshold=threshold,\n",
    "    dataframe=df\n",
    ")"
   ]
  },
  {
   "cell_type": "code",
   "execution_count": 37,
   "id": "4e13c57a",
   "metadata": {
    "execution": {
     "iopub.execute_input": "2024-09-11T02:57:35.272053Z",
     "iopub.status.busy": "2024-09-11T02:57:35.271619Z",
     "iopub.status.idle": "2024-09-11T02:57:36.020337Z",
     "shell.execute_reply": "2024-09-11T02:57:36.018837Z"
    },
    "papermill": {
     "duration": 0.772473,
     "end_time": "2024-09-11T02:57:36.023126",
     "exception": false,
     "start_time": "2024-09-11T02:57:35.250653",
     "status": "completed"
    },
    "tags": []
   },
   "outputs": [
    {
     "name": "stdout",
     "output_type": "stream",
     "text": [
      "[LightGBM] [Info] Number of positive: 2622, number of negative: 3468\n",
      "[LightGBM] [Info] Auto-choosing row-wise multi-threading, the overhead of testing was 0.028452 seconds.\n",
      "You can set `force_row_wise=true` to remove the overhead.\n",
      "And if memory is not enough, you can set `force_col_wise=true`.\n",
      "[LightGBM] [Info] Total Bins 1881\n",
      "[LightGBM] [Info] Number of data points in the train set: 6090, number of used features: 700\n",
      "[LightGBM] [Info] [binary:BoostFromScore]: pavg=0.430542 -> initscore=-0.279641\n",
      "[LightGBM] [Info] Start training from score -0.279641\n",
      "AUC Score: 0.8486\n",
      "F1 Score: 0.7434\n",
      "Recall: 0.7211\n",
      "Precision: 0.7672\n"
     ]
    }
   ],
   "source": [
    "train_bow(\n",
    "    text_column=\"stemmed_text\",\n",
    "    target=\"target\",\n",
    "    threshold=threshold,\n",
    "    dataframe=df\n",
    ")"
   ]
  },
  {
   "cell_type": "code",
   "execution_count": 38,
   "id": "37c91d8a",
   "metadata": {
    "execution": {
     "iopub.execute_input": "2024-09-11T02:57:36.065544Z",
     "iopub.status.busy": "2024-09-11T02:57:36.065077Z",
     "iopub.status.idle": "2024-09-11T02:57:36.835432Z",
     "shell.execute_reply": "2024-09-11T02:57:36.834130Z"
    },
    "papermill": {
     "duration": 0.795074,
     "end_time": "2024-09-11T02:57:36.838290",
     "exception": false,
     "start_time": "2024-09-11T02:57:36.043216",
     "status": "completed"
    },
    "tags": []
   },
   "outputs": [
    {
     "name": "stdout",
     "output_type": "stream",
     "text": [
      "[LightGBM] [Info] Number of positive: 2622, number of negative: 3468\n",
      "[LightGBM] [Info] Auto-choosing row-wise multi-threading, the overhead of testing was 0.028427 seconds.\n",
      "You can set `force_row_wise=true` to remove the overhead.\n",
      "And if memory is not enough, you can set `force_col_wise=true`.\n",
      "[LightGBM] [Info] Total Bins 1860\n",
      "[LightGBM] [Info] Number of data points in the train set: 6090, number of used features: 705\n",
      "[LightGBM] [Info] [binary:BoostFromScore]: pavg=0.430542 -> initscore=-0.279641\n",
      "[LightGBM] [Info] Start training from score -0.279641\n",
      "AUC Score: 0.8417\n",
      "F1 Score: 0.7460\n",
      "Recall: 0.7242\n",
      "Precision: 0.7692\n"
     ]
    }
   ],
   "source": [
    "train_bow(\n",
    "    text_column=\"basic_text\",\n",
    "    target=\"target\",\n",
    "    threshold=threshold,\n",
    "    dataframe=df\n",
    ")"
   ]
  },
  {
   "cell_type": "markdown",
   "id": "a6fffdb8",
   "metadata": {
    "papermill": {
     "duration": 0.019316,
     "end_time": "2024-09-11T02:57:36.877296",
     "exception": false,
     "start_time": "2024-09-11T02:57:36.857980",
     "status": "completed"
    },
    "tags": []
   },
   "source": [
    "---"
   ]
  },
  {
   "cell_type": "markdown",
   "id": "d4357ebd",
   "metadata": {
    "papermill": {
     "duration": 0.019626,
     "end_time": "2024-09-11T02:57:36.916469",
     "exception": false,
     "start_time": "2024-09-11T02:57:36.896843",
     "status": "completed"
    },
    "tags": []
   },
   "source": [
    "# POS tagging and Stop Words removal"
   ]
  },
  {
   "cell_type": "code",
   "execution_count": 39,
   "id": "5d6ae89e",
   "metadata": {
    "execution": {
     "iopub.execute_input": "2024-09-11T02:57:36.957387Z",
     "iopub.status.busy": "2024-09-11T02:57:36.956926Z",
     "iopub.status.idle": "2024-09-11T02:57:38.208576Z",
     "shell.execute_reply": "2024-09-11T02:57:38.207284Z"
    },
    "papermill": {
     "duration": 1.275513,
     "end_time": "2024-09-11T02:57:38.211535",
     "exception": false,
     "start_time": "2024-09-11T02:57:36.936022",
     "status": "completed"
    },
    "tags": []
   },
   "outputs": [],
   "source": [
    "nlp = spacy.load('en_core_web_sm', disable=['parser', 'ner', 'textcat'])"
   ]
  },
  {
   "cell_type": "code",
   "execution_count": 40,
   "id": "4bd3985e",
   "metadata": {
    "execution": {
     "iopub.execute_input": "2024-09-11T02:57:38.253535Z",
     "iopub.status.busy": "2024-09-11T02:57:38.253053Z",
     "iopub.status.idle": "2024-09-11T02:57:38.263103Z",
     "shell.execute_reply": "2024-09-11T02:57:38.261821Z"
    },
    "papermill": {
     "duration": 0.034623,
     "end_time": "2024-09-11T02:57:38.265844",
     "exception": false,
     "start_time": "2024-09-11T02:57:38.231221",
     "status": "completed"
    },
    "tags": []
   },
   "outputs": [],
   "source": [
    "def preprocess_text_with_pos(text: str, pos_to_keep: list = ['NOUN', 'VERB', 'ADJ']) -> str:\n",
    "    \"\"\"\n",
    "    Preprocesses the input text by tokenizing, filtering tokens based on Part-of-Speech (POS) tags,\n",
    "    and lemmatizing the filtered tokens. Stop words and punctuation are removed.\n",
    "\n",
    "    Parameters\n",
    "    ----------\n",
    "    text : str\n",
    "        The input text to preprocess.\n",
    "    \n",
    "    pos_to_keep : list of str, optional\n",
    "        A list of POS tags to keep after filtering. The tokens with these POS tags will be lemmatized.\n",
    "        The default is ['NOUN', 'VERB', 'ADJ'].\n",
    "\n",
    "        Common POS tags in SpaCy that can be used:\n",
    "        - 'NOUN' : Noun\n",
    "        - 'VERB' : Verb\n",
    "        - 'ADJ'  : Adjective\n",
    "        - 'ADV'  : Adverb\n",
    "        - 'PRON' : Pronoun\n",
    "        - 'PROPN': Proper Noun\n",
    "        - 'DET'  : Determiner\n",
    "        - 'ADP'  : Adposition (prepositions like \"in\", \"on\", etc.)\n",
    "        - 'CONJ' : Conjunction\n",
    "        - 'NUM'  : Numeral\n",
    "        - 'PART' : Particle\n",
    "        - 'PUNCT': Punctuation (excluded by default)\n",
    "    \n",
    "    Returns\n",
    "    -------\n",
    "    str\n",
    "        A preprocessed string where only the lemmatized tokens with the specified POS tags are included.\n",
    "        Stop words and punctuation are removed.\n",
    "    \"\"\"\n",
    "\n",
    "    # Process the text using SpaCy's NLP pipeline\n",
    "    doc = nlp(text)\n",
    "    \n",
    "    filtered_tokens = []\n",
    "    \n",
    "    # Iterate through each token in the text\n",
    "    for token in doc:\n",
    "        # Check if the token's POS is in the allowed list and it is not a stop word or punctuation\n",
    "        if token.pos_ in pos_to_keep and not token.is_stop and not token.is_punct:\n",
    "            # Add the lemmatized version of the token to the list\n",
    "            filtered_tokens.append(token.lemma_)\n",
    "    \n",
    "    # Join the filtered tokens back into a string and return it\n",
    "    return ' '.join(filtered_tokens)"
   ]
  },
  {
   "cell_type": "code",
   "execution_count": 41,
   "id": "7c332840",
   "metadata": {
    "execution": {
     "iopub.execute_input": "2024-09-11T02:57:38.307419Z",
     "iopub.status.busy": "2024-09-11T02:57:38.306957Z",
     "iopub.status.idle": "2024-09-11T02:58:18.891892Z",
     "shell.execute_reply": "2024-09-11T02:58:18.890706Z"
    },
    "papermill": {
     "duration": 40.608916,
     "end_time": "2024-09-11T02:58:18.894669",
     "exception": false,
     "start_time": "2024-09-11T02:57:38.285753",
     "status": "completed"
    },
    "tags": []
   },
   "outputs": [],
   "source": [
    "df['pos_tagging_text'] = df['text'].apply(preprocess_text_with_pos)"
   ]
  },
  {
   "cell_type": "code",
   "execution_count": 42,
   "id": "cc0be03d",
   "metadata": {
    "execution": {
     "iopub.execute_input": "2024-09-11T02:58:18.936403Z",
     "iopub.status.busy": "2024-09-11T02:58:18.935899Z",
     "iopub.status.idle": "2024-09-11T02:58:19.392967Z",
     "shell.execute_reply": "2024-09-11T02:58:19.391317Z"
    },
    "papermill": {
     "duration": 0.481066,
     "end_time": "2024-09-11T02:58:19.395679",
     "exception": false,
     "start_time": "2024-09-11T02:58:18.914613",
     "status": "completed"
    },
    "tags": []
   },
   "outputs": [
    {
     "name": "stdout",
     "output_type": "stream",
     "text": [
      "[LightGBM] [Info] Number of positive: 2622, number of negative: 3468\n",
      "[LightGBM] [Info] Auto-choosing row-wise multi-threading, the overhead of testing was 0.014073 seconds.\n",
      "You can set `force_row_wise=true` to remove the overhead.\n",
      "And if memory is not enough, you can set `force_col_wise=true`.\n",
      "[LightGBM] [Info] Total Bins 935\n",
      "[LightGBM] [Info] Number of data points in the train set: 6090, number of used features: 370\n",
      "[LightGBM] [Info] [binary:BoostFromScore]: pavg=0.430542 -> initscore=-0.279641\n",
      "[LightGBM] [Info] Start training from score -0.279641\n",
      "AUC Score: 0.7937\n",
      "F1 Score: 0.6913\n",
      "Recall: 0.6641\n",
      "Precision: 0.7207\n"
     ]
    }
   ],
   "source": [
    "train_bow(\n",
    "    text_column=\"pos_tagging_text\",\n",
    "    target=\"target\",\n",
    "    threshold=threshold,\n",
    "    dataframe=df\n",
    ")"
   ]
  },
  {
   "cell_type": "markdown",
   "id": "a5f6a6c8",
   "metadata": {
    "papermill": {
     "duration": 0.019635,
     "end_time": "2024-09-11T02:58:19.435414",
     "exception": false,
     "start_time": "2024-09-11T02:58:19.415779",
     "status": "completed"
    },
    "tags": []
   },
   "source": [
    "# NER and Stop Words removal"
   ]
  },
  {
   "cell_type": "code",
   "execution_count": 43,
   "id": "8f5beec4",
   "metadata": {
    "execution": {
     "iopub.execute_input": "2024-09-11T02:58:19.477160Z",
     "iopub.status.busy": "2024-09-11T02:58:19.476651Z",
     "iopub.status.idle": "2024-09-11T02:58:20.720952Z",
     "shell.execute_reply": "2024-09-11T02:58:20.719766Z"
    },
    "papermill": {
     "duration": 1.268547,
     "end_time": "2024-09-11T02:58:20.723996",
     "exception": false,
     "start_time": "2024-09-11T02:58:19.455449",
     "status": "completed"
    },
    "tags": []
   },
   "outputs": [],
   "source": [
    "nlp = spacy.load('en_core_web_sm', disable=['parser', 'textcat'])"
   ]
  },
  {
   "cell_type": "code",
   "execution_count": 44,
   "id": "c3b072b7",
   "metadata": {
    "execution": {
     "iopub.execute_input": "2024-09-11T02:58:20.765730Z",
     "iopub.status.busy": "2024-09-11T02:58:20.765284Z",
     "iopub.status.idle": "2024-09-11T02:58:20.775509Z",
     "shell.execute_reply": "2024-09-11T02:58:20.774437Z"
    },
    "papermill": {
     "duration": 0.034188,
     "end_time": "2024-09-11T02:58:20.778138",
     "exception": false,
     "start_time": "2024-09-11T02:58:20.743950",
     "status": "completed"
    },
    "tags": []
   },
   "outputs": [],
   "source": [
    "def preprocess_text_with_ner_and_stopwords(text: str, keep_entities: bool = True) -> str:\n",
    "    \"\"\"\n",
    "    Preprocesses the input text by removing stop words, identifying named entities, \n",
    "    and optionally keeping named entities in their original form or lemmatizing non-entity tokens.\n",
    "\n",
    "    Parameters\n",
    "    ----------\n",
    "    text : str\n",
    "        The input text to preprocess.\n",
    "    \n",
    "    keep_entities : bool, optional\n",
    "        If True, named entities (e.g., \"New York\", \"Apple Inc.\") will be kept in their original form.\n",
    "        If False, the named entities will also be lemmatized like other tokens. Default is True.\n",
    "\n",
    "    Returns\n",
    "    -------\n",
    "    str\n",
    "        A preprocessed string where stop words are removed, and named entities are optionally kept \n",
    "        in their original form.\n",
    "\n",
    "    \"\"\"\n",
    "\n",
    "    # Process the text using SpaCy's NLP pipeline\n",
    "    doc = nlp(text)\n",
    "    \n",
    "    preprocessed_tokens = []\n",
    "    \n",
    "    # Iterate through each token in the text\n",
    "    for token in doc:\n",
    "        # Check if the token is not a stop word or punctuation\n",
    "        if not token.is_stop and not token.is_punct:\n",
    "            # If the token is a named entity and we want to keep it as is\n",
    "            if token.ent_type_ and keep_entities:\n",
    "                preprocessed_tokens.append(token.text)\n",
    "            else:\n",
    "                # Otherwise, append the lemmatized token\n",
    "                preprocessed_tokens.append(token.lemma_)\n",
    "    \n",
    "    # Join the preprocessed tokens back into a string and return it\n",
    "    return ' '.join(preprocessed_tokens)"
   ]
  },
  {
   "cell_type": "code",
   "execution_count": 45,
   "id": "6fa125d3",
   "metadata": {
    "execution": {
     "iopub.execute_input": "2024-09-11T02:58:20.820818Z",
     "iopub.status.busy": "2024-09-11T02:58:20.819734Z",
     "iopub.status.idle": "2024-09-11T02:59:32.629642Z",
     "shell.execute_reply": "2024-09-11T02:59:32.628389Z"
    },
    "papermill": {
     "duration": 71.833879,
     "end_time": "2024-09-11T02:59:32.632454",
     "exception": false,
     "start_time": "2024-09-11T02:58:20.798575",
     "status": "completed"
    },
    "tags": []
   },
   "outputs": [],
   "source": [
    "df['ner_text'] = df['text'].apply(preprocess_text_with_ner_and_stopwords)"
   ]
  },
  {
   "cell_type": "code",
   "execution_count": 46,
   "id": "96d1165c",
   "metadata": {
    "execution": {
     "iopub.execute_input": "2024-09-11T02:59:32.674832Z",
     "iopub.status.busy": "2024-09-11T02:59:32.674329Z",
     "iopub.status.idle": "2024-09-11T02:59:33.297378Z",
     "shell.execute_reply": "2024-09-11T02:59:33.295961Z"
    },
    "papermill": {
     "duration": 0.647665,
     "end_time": "2024-09-11T02:59:33.300204",
     "exception": false,
     "start_time": "2024-09-11T02:59:32.652539",
     "status": "completed"
    },
    "tags": []
   },
   "outputs": [
    {
     "name": "stdout",
     "output_type": "stream",
     "text": [
      "[LightGBM] [Info] Number of positive: 2622, number of negative: 3468\n",
      "[LightGBM] [Info] Auto-choosing row-wise multi-threading, the overhead of testing was 0.020317 seconds.\n",
      "You can set `force_row_wise=true` to remove the overhead.\n",
      "And if memory is not enough, you can set `force_col_wise=true`.\n",
      "[LightGBM] [Info] Total Bins 1402\n",
      "[LightGBM] [Info] Number of data points in the train set: 6090, number of used features: 539\n",
      "[LightGBM] [Info] [binary:BoostFromScore]: pavg=0.430542 -> initscore=-0.279641\n",
      "[LightGBM] [Info] Start training from score -0.279641\n",
      "AUC Score: 0.8445\n",
      "F1 Score: 0.7360\n",
      "Recall: 0.7088\n",
      "Precision: 0.7654\n"
     ]
    }
   ],
   "source": [
    "train_bow(\n",
    "    text_column=\"ner_text\",\n",
    "    target=\"target\",\n",
    "    threshold=threshold,\n",
    "    dataframe=df\n",
    ")"
   ]
  },
  {
   "cell_type": "code",
   "execution_count": null,
   "id": "f1459a88",
   "metadata": {
    "papermill": {
     "duration": 0.019807,
     "end_time": "2024-09-11T02:59:33.340212",
     "exception": false,
     "start_time": "2024-09-11T02:59:33.320405",
     "status": "completed"
    },
    "tags": []
   },
   "outputs": [],
   "source": []
  },
  {
   "cell_type": "code",
   "execution_count": null,
   "id": "ca3892e6",
   "metadata": {
    "papermill": {
     "duration": 0.020659,
     "end_time": "2024-09-11T02:59:33.381098",
     "exception": false,
     "start_time": "2024-09-11T02:59:33.360439",
     "status": "completed"
    },
    "tags": []
   },
   "outputs": [],
   "source": []
  }
 ],
 "metadata": {
  "kaggle": {
   "accelerator": "none",
   "dataSources": [
    {
     "databundleVersionId": 869809,
     "sourceId": 17777,
     "sourceType": "competition"
    }
   ],
   "dockerImageVersionId": 30761,
   "isGpuEnabled": false,
   "isInternetEnabled": true,
   "language": "python",
   "sourceType": "notebook"
  },
  "kernelspec": {
   "display_name": "Python 3",
   "language": "python",
   "name": "python3"
  },
  "language_info": {
   "codemirror_mode": {
    "name": "ipython",
    "version": 3
   },
   "file_extension": ".py",
   "mimetype": "text/x-python",
   "name": "python",
   "nbconvert_exporter": "python",
   "pygments_lexer": "ipython3",
   "version": "3.10.14"
  },
  "papermill": {
   "default_parameters": {},
   "duration": 222.157533,
   "end_time": "2024-09-11T02:59:35.030367",
   "environment_variables": {},
   "exception": null,
   "input_path": "__notebook__.ipynb",
   "output_path": "__notebook__.ipynb",
   "parameters": {},
   "start_time": "2024-09-11T02:55:52.872834",
   "version": "2.6.0"
  }
 },
 "nbformat": 4,
 "nbformat_minor": 5
}
